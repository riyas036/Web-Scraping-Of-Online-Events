{
  "cells": [
    {
      "cell_type": "markdown",
      "metadata": {
        "id": "view-in-github",
        "colab_type": "text"
      },
      "source": [
        "<a href=\"https://colab.research.google.com/github/riyas036/Web-Scraping-Of-Online-Events/blob/main/Web_Scraping_Of_Online_Events_To_Collect_Structured_Data_Intelligence.ipynb\" target=\"_parent\"><img src=\"https://colab.research.google.com/assets/colab-badge.svg\" alt=\"Open In Colab\"/></a>"
      ]
    },
    {
      "cell_type": "code",
      "source": [
        "!git clone https://github.com/rajat4665/web-scraping-with-python.git"
      ],
      "metadata": {
        "id": "1bS5EW9Jc7uR",
        "outputId": "90537873-d891-4c8f-d804-8ae7998eeb63",
        "colab": {
          "base_uri": "https://localhost:8080/"
        }
      },
      "execution_count": null,
      "outputs": [
        {
          "output_type": "stream",
          "name": "stdout",
          "text": [
            "Cloning into 'web-scraping-with-python'...\n",
            "remote: Enumerating objects: 36, done.\u001b[K\n",
            "remote: Counting objects: 100% (22/22), done.\u001b[K\n",
            "remote: Compressing objects: 100% (18/18), done.\u001b[K\n",
            "remote: Total 36 (delta 11), reused 9 (delta 4), pack-reused 14\u001b[K\n",
            "Unpacking objects: 100% (36/36), 321.46 KiB | 3.97 MiB/s, done.\n"
          ]
        }
      ]
    },
    {
      "cell_type": "code",
      "execution_count": null,
      "metadata": {
        "id": "gaCA_V-jc6jp",
        "outputId": "5aafd83e-5426-48c6-e263-948dfa5fb115",
        "colab": {
          "base_uri": "https://localhost:8080/"
        }
      },
      "outputs": [
        {
          "output_type": "stream",
          "name": "stdout",
          "text": [
            "Looking in indexes: https://pypi.org/simple, https://us-python.pkg.dev/colab-wheels/public/simple/\n",
            "Requirement already satisfied: requests in /usr/local/lib/python3.9/dist-packages (2.27.1)\n",
            "Requirement already satisfied: urllib3<1.27,>=1.21.1 in /usr/local/lib/python3.9/dist-packages (from requests) (1.26.15)\n",
            "Requirement already satisfied: certifi>=2017.4.17 in /usr/local/lib/python3.9/dist-packages (from requests) (2022.12.7)\n",
            "Requirement already satisfied: charset-normalizer~=2.0.0 in /usr/local/lib/python3.9/dist-packages (from requests) (2.0.12)\n",
            "Requirement already satisfied: idna<4,>=2.5 in /usr/local/lib/python3.9/dist-packages (from requests) (3.4)\n",
            "Looking in indexes: https://pypi.org/simple, https://us-python.pkg.dev/colab-wheels/public/simple/\n",
            "Collecting bs4\n",
            "  Downloading bs4-0.0.1.tar.gz (1.1 kB)\n",
            "  Preparing metadata (setup.py) ... \u001b[?25l\u001b[?25hdone\n",
            "Requirement already satisfied: beautifulsoup4 in /usr/local/lib/python3.9/dist-packages (from bs4) (4.11.2)\n",
            "Requirement already satisfied: soupsieve>1.2 in /usr/local/lib/python3.9/dist-packages (from beautifulsoup4->bs4) (2.4.1)\n",
            "Building wheels for collected packages: bs4\n",
            "  Building wheel for bs4 (setup.py) ... \u001b[?25l\u001b[?25hdone\n",
            "  Created wheel for bs4: filename=bs4-0.0.1-py3-none-any.whl size=1270 sha256=bdea68838adced20726c930284a98bf78661649463e817436a3d46220f434ac5\n",
            "  Stored in directory: /root/.cache/pip/wheels/73/2b/cb/099980278a0c9a3e57ff1a89875ec07bfa0b6fcbebb9a8cad3\n",
            "Successfully built bs4\n",
            "Installing collected packages: bs4\n",
            "Successfully installed bs4-0.0.1\n"
          ]
        }
      ],
      "source": [
        "#Requirements\n",
        "!pip3 install requests\n",
        "!pip3 install bs4"
      ]
    },
    {
      "cell_type": "markdown",
      "metadata": {
        "id": "Kc7umwRgc6jr"
      },
      "source": [
        "## Basic fundamentals of web scraping"
      ]
    },
    {
      "cell_type": "code",
      "execution_count": null,
      "metadata": {
        "id": "AxZTJwo5c6ju",
        "outputId": "5ece5854-35a0-4a1f-8d5a-8ca91ca79488",
        "colab": {
          "base_uri": "https://localhost:8080/"
        }
      },
      "outputs": [
        {
          "output_type": "stream",
          "name": "stdout",
          "text": [
            "this is with html tags : <title>Fun with python programming – A programming language for revolution</title>\n",
            "this is without html tags: Fun with python programming\n",
            "<a class=\"marketing-bar-button\" href=\"https://wordpress.com/start/?ref=marketing_bar\">Get started</a>\n"
          ]
        }
      ],
      "source": [
        "# import these two modules bs4 for selecting HTML tags easily\n",
        "from bs4 import BeautifulSoup\n",
        "# requests module is easy to operate some people use urllib but I prefer this one because it is easy to use.\n",
        "import requests\n",
        "\n",
        "# I put here my own blog url ,you can change it.\n",
        "url=\"https://getpython.wordpress.com/\"\n",
        "\n",
        "#Requests module use to data from given url\n",
        "source=requests.get(url)\n",
        "\n",
        "# BeautifulSoup is used for getting HTML structure from requests response.(craete your soup)\n",
        "soup=BeautifulSoup(source.text,'html')\n",
        "\n",
        "# Find function is used to find a single element if there are more than once it always returns the first element.\n",
        "title=soup.find('title') # place your html tagg in parentheses that you want to find from html.\n",
        "print(\"this is with html tags :\",title)\n",
        "\n",
        "qwery=soup.find('h1') # here i find first h1 tagg in my website using find operation.\n",
        "\n",
        "#use .text for extract only text without any html tags\n",
        "print(\"this is without html tags:\",qwery.text) \n",
        "\n",
        "\n",
        "links=soup.find('a') #i extarcted link using \"a\" tag\n",
        "print(links)"
      ]
    },
    {
      "cell_type": "markdown",
      "metadata": {
        "id": "j351-i6Qc6jx"
      },
      "source": [
        "## extarct data from innerhtml "
      ]
    },
    {
      "cell_type": "code",
      "execution_count": null,
      "metadata": {
        "id": "mO4FVeRKc6jz",
        "outputId": "5cc44bef-2a2e-4c2b-bd18-31072a255027",
        "colab": {
          "base_uri": "https://localhost:8080/"
        }
      },
      "outputs": [
        {
          "output_type": "stream",
          "name": "stdout",
          "text": [
            "https://wordpress.com/start/?ref=marketing_bar\n"
          ]
        }
      ],
      "source": [
        "# here i extarcted href data from anchor tag.\n",
        "print(links['href']) "
      ]
    },
    {
      "cell_type": "code",
      "execution_count": null,
      "metadata": {
        "id": "3osK4S_bc6j1",
        "outputId": "07d605e4-cd49-4d55-d063-08734ca506a9",
        "colab": {
          "base_uri": "https://localhost:8080/"
        }
      },
      "outputs": [
        {
          "output_type": "stream",
          "name": "stdout",
          "text": [
            "['marketing-bar-button']\n"
          ]
        }
      ],
      "source": [
        "# similarly i got class details from a anchor tag\n",
        "print(links['class'])"
      ]
    },
    {
      "cell_type": "markdown",
      "metadata": {
        "id": "dyUkl6OPc6j2"
      },
      "source": [
        "## findall operation in Bs4"
      ]
    },
    {
      "cell_type": "code",
      "execution_count": null,
      "metadata": {
        "id": "x7OU6rykc6j2",
        "outputId": "594f961c-11fd-49ff-eeb3-fed3c939bea1",
        "colab": {
          "base_uri": "https://localhost:8080/"
        }
      },
      "outputs": [
        {
          "output_type": "stream",
          "name": "stdout",
          "text": [
            "total links in my website : 100\n",
            "\n",
            "<a class=\"marketing-bar-button\" href=\"https://wordpress.com/start/?ref=marketing_bar\">Get started</a>\n",
            "<a aria-label=\"Create your website at WordPress.com\" class=\"marketing-bar-link\" href=\"https://wordpress.com/start/?ref=marketing_bar\" tabindex=\"-1\"></a>\n",
            "<a class=\"screen-reader-text skip-link\" href=\"#content\">Skip to content</a>\n",
            "<a href=\"https://getpython.wordpress.com/\" rel=\"home\">\n",
            "<div class=\"cover\"></div>\n",
            "</a>\n",
            "<a class=\"screen-reader-text search-toggle\" href=\"#search-container\">Search</a>\n",
            "<a href=\"https://getpython.wordpress.com/\" rel=\"home\">Fun with python programming</a>\n"
          ]
        }
      ],
      "source": [
        "# findall function is used to fetch all tags at a single time.\n",
        "many_link=soup.find_all('a') # here i extracted all the anchor tags of my website\n",
        "total_links=len(many_link) # len function is use to calculate length of your array\n",
        "print(\"total links in my website :\",total_links)\n",
        "print()\n",
        "for i in many_link[:6]: # here i use slicing to fetch only first 6 links from rest of them.\n",
        "    print(i)"
      ]
    },
    {
      "cell_type": "code",
      "execution_count": null,
      "metadata": {
        "id": "hmaEgKQUc6j3",
        "outputId": "ef5a9fc4-e4ed-43c3-96c8-0dba45e0ed90",
        "colab": {
          "base_uri": "https://localhost:8080/"
        }
      },
      "outputs": [
        {
          "output_type": "stream",
          "name": "stdout",
          "text": [
            "<a href=\"https://getpython.wordpress.com/\" rel=\"home\">\n",
            "<div class=\"cover\"></div>\n",
            "</a>\n",
            "\n",
            "href is : https://getpython.wordpress.com/\n"
          ]
        }
      ],
      "source": [
        "second_link=many_link[3] #here i fetch second link which place on 1 index number in many_links.\n",
        "print(second_link)\n",
        "print()\n",
        "print(\"href is :\",second_link['href']) #only href link is extracted from ancor tag"
      ]
    },
    {
      "cell_type": "code",
      "execution_count": null,
      "metadata": {
        "id": "Ryaj0-xAc6j5",
        "outputId": "752c1c02-bc9a-41b1-ae0c-723b44a59132",
        "colab": {
          "base_uri": "https://localhost:8080/"
        }
      },
      "outputs": [
        {
          "output_type": "stream",
          "name": "stdout",
          "text": [
            "<div class=\"cover\"></div>\n",
            "\n",
            "['cover']\n",
            "<class 'list'>\n",
            "\n",
            "class name of div is : cover\n"
          ]
        }
      ],
      "source": [
        "# select div tag from second link\n",
        "nested_div=second_link.find('div')\n",
        "# As you can see div element extarcted , it also have inner elements\n",
        "print(nested_div)\n",
        "print()\n",
        "#here i extracted class element from div but it give us in the form of list\n",
        "if nested_div is not None:\n",
        "  z=nested_div[\"class\"]\n",
        "  print(z)\n",
        "  print(type(z))\n",
        "  print()\n",
        "#  \" \" .join () method use to convert list type  into string type\n",
        "  print(\"class name of div is :\",\" \".join(nested_div[\"class\"])) "
      ]
    },
    {
      "cell_type": "markdown",
      "metadata": {
        "id": "-x7F2-Z9c6j6"
      },
      "source": [
        "## scrap data from wikipedia"
      ]
    },
    {
      "cell_type": "code",
      "execution_count": null,
      "metadata": {
        "id": "29lPdh7tc6j7",
        "outputId": "171095ec-ac14-45e5-d773-ae5eb3059d58",
        "colab": {
          "base_uri": "https://localhost:8080/"
        }
      },
      "outputs": [
        {
          "output_type": "stream",
          "name": "stdout",
          "text": [
            "<title>World War II - Wikipedia</title>\n"
          ]
        }
      ],
      "source": [
        "wiki=requests.get(\"https://en.wikipedia.org/wiki/World_War_II\")\n",
        "soup=BeautifulSoup(wiki.text,'html')\n",
        "print(soup.find('title'))\n"
      ]
    },
    {
      "cell_type": "markdown",
      "metadata": {
        "id": "pXnKnn8Zc6j8"
      },
      "source": [
        "### find html tags with classes"
      ]
    },
    {
      "cell_type": "code",
      "execution_count": null,
      "metadata": {
        "id": "dTYci0BIc6j8"
      },
      "outputs": [],
      "source": [
        "ww2_contents=soup.find_all(\"div\",class_='toc')\n",
        "for i in ww2_contents:\n",
        "    print(i.text)"
      ]
    },
    {
      "cell_type": "code",
      "execution_count": null,
      "metadata": {
        "id": "IiZAFmTYc6j9",
        "outputId": "0cb3d323-6d47-4022-e8bb-3fc9943d480a",
        "colab": {
          "base_uri": "https://localhost:8080/"
        }
      },
      "outputs": [
        {
          "output_type": "stream",
          "name": "stdout",
          "text": [
            "World War IIClockwise from top left: \n",
            "German Stuka dive bombers on the Eastern Front in December 1943\n",
            "Australian Ordnance QF 25-pounder guns during the First Battle of El Alamein\n",
            "Atomic bombing of Nagasaki\n",
            "US naval force in the Lingayen Gulf\n",
            "Raising a flag over the Reichstag\n",
            "Soviet troops in the Battle of Stalingrad\n",
            "Date1 September 1939 – 2 September 1945[a] (6 years, 1 day)LocationMajor theaters: \n",
            "Europe\n",
            "Pacific\n",
            "Atlantic\n",
            "Indian Ocean\n",
            "South-East Asia\n",
            "China\n",
            "Japan\n",
            "Middle East\n",
            "Mediterranean\n",
            "North Africa\n",
            "Horn of Africa\n",
            "Central Africa\n",
            "Australia\n",
            "Caribbean\n",
            "North and South America\n",
            "Result\n",
            "Allied victory\n",
            "Fall of Nazi Germany, Fascist Italy, and Imperial Japan\n",
            "Allied military occupations of Germany, Japan, Austria, and Korea\n",
            "Beginning of the Nuclear Age\n",
            "Dissolution of the League of Nations and creation of the United Nations\n",
            "Decolonisation of Asia and Africa and decline of European international influence\n",
            "Emergence of the United States and the Soviet Union as rival superpowers and beginning of the Cold War (see Aftermath of World War II)Participants\n",
            "Allies\n",
            "AxisCommanders and leaders\n",
            "Main Allied leaders:\n",
            " Joseph Stalin\n",
            " Franklin D. Roosevelt\n",
            " Winston Churchill\n",
            " Chiang Kai-shek\n",
            "\n",
            "Main Axis leaders:\n",
            " Adolf Hitler\n",
            " Hirohito\n",
            " Benito Mussolini\n",
            "Casualties and losses\n",
            "\n",
            "Military dead:\n",
            "Over 16,000,000\n",
            "Civilian dead:\n",
            "Over 45,000,000\n",
            "Total dead:\n",
            "Over 61,000,000\n",
            "(1937–1945)\n",
            "...further details\n",
            "\n",
            "\n",
            "Military dead:\n",
            "Over 8,000,000\n",
            "Civilian dead:\n",
            "Over 4,000,000\n",
            "Total dead:\n",
            "Over 12,000,000\n",
            "(1937–1945)\n",
            "...further details\n",
            "\n"
          ]
        }
      ],
      "source": [
        "overview=soup.find_all('table',class_='infobox vevent')\n",
        "for z in overview:\n",
        "    print(z.text)\n",
        "    "
      ]
    }
  ],
  "metadata": {
    "kernelspec": {
      "display_name": "Python 3",
      "language": "python",
      "name": "python3"
    },
    "language_info": {
      "codemirror_mode": {
        "name": "ipython",
        "version": 3
      },
      "file_extension": ".py",
      "mimetype": "text/x-python",
      "name": "python",
      "nbconvert_exporter": "python",
      "pygments_lexer": "ipython3",
      "version": "3.5.2"
    },
    "colab": {
      "provenance": [],
      "include_colab_link": true
    }
  },
  "nbformat": 4,
  "nbformat_minor": 0
}